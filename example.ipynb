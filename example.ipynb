{
 "cells": [
  {
   "cell_type": "code",
   "execution_count": 1,
   "metadata": {},
   "outputs": [
    {
     "name": "stderr",
     "output_type": "stream",
     "text": [
      "/home/davidfm43/miniconda3/envs/codefest-test2/lib/python3.8/site-packages/tqdm/auto.py:21: TqdmWarning: IProgress not found. Please update jupyter and ipywidgets. See https://ipywidgets.readthedocs.io/en/stable/user_install.html\n",
      "  from .autonotebook import tqdm as notebook_tqdm\n",
      "Downloading pytorch_model.bin: 100%|██████████| 2.24G/2.24G [04:38<00:00, 8.05MB/s]\n",
      "Downloading (…)lve/main/config.json: 100%|██████████| 616/616 [00:00<00:00, 50.4kB/s]\n",
      "Downloading (…)tencepiece.bpe.model: 100%|██████████| 5.07M/5.07M [00:00<00:00, 10.8MB/s]\n",
      "Downloading (…)/main/tokenizer.json: 100%|██████████| 9.10M/9.10M [00:00<00:00, 11.4MB/s]\n"
     ]
    },
    {
     "name": "stdout",
     "output_type": "stream",
     "text": [
      "2023-06-03 12:16:06,644 SequenceTagger predicts: Dictionary with 20 tags: <unk>, O, S-LOC, S-ORG, B-PER, I-PER, E-PER, S-MISC, B-ORG, E-ORG, S-PER, I-ORG, B-LOC, E-LOC, B-MISC, E-MISC, I-MISC, I-LOC, <START>, <STOP>\n"
     ]
    },
    {
     "name": "stderr",
     "output_type": "stream",
     "text": [
      "Downloading (…)lve/main/config.json: 100%|██████████| 834/834 [00:00<00:00, 254kB/s]\n",
      "Downloading pytorch_model.bin: 100%|██████████| 440M/440M [00:53<00:00, 8.14MB/s] \n",
      "Downloading (…)okenizer_config.json: 100%|██████████| 528/528 [00:00<00:00, 195kB/s]\n",
      "Downloading (…)solve/main/vocab.txt: 100%|██████████| 242k/242k [00:00<00:00, 23.7MB/s]\n",
      "Downloading (…)cial_tokens_map.json: 100%|██████████| 112/112 [00:00<00:00, 33.5kB/s]\n"
     ]
    },
    {
     "data": {
      "text/plain": [
       "{'text': 'El aumento de las represas en la Amazonia amenaza el flujo natural de sus ríos, altera los ciclos naturales y pone en grave riesgo especies como los delfines y peces migratorios. El suministro de agua para las comunidades locales y el transporte de alimentos, también se ven afectados por cuenta de la producción de energía en la selva amazónica. En la Amazonia hay 154 represas para la producción de energía hidroeléctrica y se planea la construcción de otras 277 en los próximos años.',\n",
       " 'org': [],\n",
       " 'loc': ['Amazonia'],\n",
       " 'per': [],\n",
       " 'misc': [],\n",
       " 'impact': 'DEFORESTACION'}"
      ]
     },
     "execution_count": 1,
     "metadata": {},
     "output_type": "execute_result"
    }
   ],
   "source": [
    "from gamma import text\n",
    "\n",
    "sample_text = \"El aumento de las represas en la Amazonia amenaza el flujo natural de sus ríos, altera los ciclos naturales y pone en grave riesgo especies como los delfines y peces migratorios. El suministro de agua para las comunidades locales y el transporte de alimentos, también se ven afectados por cuenta de la producción de energía en la selva amazónica. En la Amazonia hay 154 represas para la producción de energía hidroeléctrica y se planea la construcción de otras 277 en los próximos años.\"\n",
    "text.ner_from_str(sample_text, save=False)\n"
   ]
  }
 ],
 "metadata": {
  "kernelspec": {
   "display_name": "codefest-test2",
   "language": "python",
   "name": "python3"
  },
  "language_info": {
   "codemirror_mode": {
    "name": "ipython",
    "version": 3
   },
   "file_extension": ".py",
   "mimetype": "text/x-python",
   "name": "python",
   "nbconvert_exporter": "python",
   "pygments_lexer": "ipython3",
   "version": "3.8.16"
  },
  "orig_nbformat": 4
 },
 "nbformat": 4,
 "nbformat_minor": 2
}
